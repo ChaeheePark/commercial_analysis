{
 "cells": [
  {
   "cell_type": "code",
   "execution_count": 128,
   "id": "consecutive-albania",
   "metadata": {
    "scrolled": true
   },
   "outputs": [],
   "source": [
    "import pandas as pd"
   ]
  },
  {
   "cell_type": "code",
   "execution_count": 129,
   "id": "japanese-storage",
   "metadata": {
    "scrolled": true
   },
   "outputs": [
    {
     "name": "stderr",
     "output_type": "stream",
     "text": [
      "/Users/chanju/opt/anaconda3/lib/python3.8/site-packages/IPython/core/interactiveshell.py:3155: DtypeWarning: Columns (16) have mixed types.Specify dtype option on import or set low_memory=False.\n",
      "  has_raised = await self.run_ast_nodes(code_ast.body, cell_name,\n"
     ]
    }
   ],
   "source": [
    "df = pd.read_csv(\"/Users/chanju/github/smussp/6주차/이찬주/서울시 신호등 관련 정보.csv\",encoding='CP949')"
   ]
  },
  {
   "cell_type": "code",
   "execution_count": 155,
   "id": "governing-animation",
   "metadata": {},
   "outputs": [],
   "source": [
    "#위도 =111.195km , 경도 88.8km , 2km 박스일 때 반경  1.414\n",
    "def dis_to_lat(km):\n",
    "    return km/111.195\n",
    "def dis_to_lon(km):\n",
    "    return km/88.8\n",
    "\n",
    "def lat_to_dis(lat):\n",
    "    return lat*111.195\n",
    "def lon_to_dis(lon):\n",
    "    return lon*88.8\n",
    "\n",
    "def get_xy(data,lon, lat,km):\n",
    "    lat_size = dis_to_lat(km)\n",
    "    lon_size = dis_to_lon(km)\n",
    "    return data[(data['위도']<=lat+lat_size/2) & (data['위도']>=lat-lat_size/2) &\n",
    "                 (data['경도']<=lon+lon_size/2) & (data['경도']>=lon-lon_size/2)]"
   ]
  },
  {
   "cell_type": "code",
   "execution_count": 130,
   "id": "public-solution",
   "metadata": {
    "scrolled": true
   },
   "outputs": [
    {
     "data": {
      "text/html": [
       "<div>\n",
       "<style scoped>\n",
       "    .dataframe tbody tr th:only-of-type {\n",
       "        vertical-align: middle;\n",
       "    }\n",
       "\n",
       "    .dataframe tbody tr th {\n",
       "        vertical-align: top;\n",
       "    }\n",
       "\n",
       "    .dataframe thead th {\n",
       "        text-align: right;\n",
       "    }\n",
       "</style>\n",
       "<table border=\"1\" class=\"dataframe\">\n",
       "  <thead>\n",
       "    <tr style=\"text-align: right;\">\n",
       "      <th></th>\n",
       "      <th>부착대관리번호</th>\n",
       "      <th>상태 (공통)</th>\n",
       "      <th>부착방식</th>\n",
       "      <th>부착대길이</th>\n",
       "      <th>고가 (공통)</th>\n",
       "      <th>부착대방향</th>\n",
       "      <th>신호등수량</th>\n",
       "      <th>배면등수량</th>\n",
       "      <th>신호등종류</th>\n",
       "      <th>배면등종류</th>\n",
       "      <th>...</th>\n",
       "      <th>작업구분 (공통)</th>\n",
       "      <th>표출구분 (공통)</th>\n",
       "      <th>신규정규화ID</th>\n",
       "      <th>공사관리번호</th>\n",
       "      <th>부착대관리번호.1</th>\n",
       "      <th>이력ID</th>\n",
       "      <th>위치정보</th>\n",
       "      <th>X좌표</th>\n",
       "      <th>Y좌표</th>\n",
       "      <th>공사형태 (공통)</th>\n",
       "    </tr>\n",
       "  </thead>\n",
       "  <tbody>\n",
       "    <tr>\n",
       "      <th>0</th>\n",
       "      <td>03-0000034286</td>\n",
       "      <td>001</td>\n",
       "      <td>003</td>\n",
       "      <td>009</td>\n",
       "      <td>001</td>\n",
       "      <td>195</td>\n",
       "      <td>2</td>\n",
       "      <td>0</td>\n",
       "      <td>003</td>\n",
       "      <td>002</td>\n",
       "      <td>...</td>\n",
       "      <td>4</td>\n",
       "      <td>001</td>\n",
       "      <td></td>\n",
       "      <td>2004-1101-152</td>\n",
       "      <td>03-034286</td>\n",
       "      <td>88931</td>\n",
       "      <td></td>\n",
       "      <td>202650.00560</td>\n",
       "      <td>542705.46253</td>\n",
       "      <td></td>\n",
       "    </tr>\n",
       "    <tr>\n",
       "      <th>1</th>\n",
       "      <td>03-0000044336</td>\n",
       "      <td>001</td>\n",
       "      <td>003</td>\n",
       "      <td>011</td>\n",
       "      <td>001</td>\n",
       "      <td>102</td>\n",
       "      <td>3</td>\n",
       "      <td>0</td>\n",
       "      <td>003</td>\n",
       "      <td>002</td>\n",
       "      <td>...</td>\n",
       "      <td>2</td>\n",
       "      <td>001</td>\n",
       "      <td></td>\n",
       "      <td>2004-1101-152</td>\n",
       "      <td>03-044336</td>\n",
       "      <td>88932</td>\n",
       "      <td></td>\n",
       "      <td>202714.48048</td>\n",
       "      <td>542715.77569</td>\n",
       "      <td></td>\n",
       "    </tr>\n",
       "    <tr>\n",
       "      <th>2</th>\n",
       "      <td>03-0000044307</td>\n",
       "      <td>001</td>\n",
       "      <td>002</td>\n",
       "      <td>999</td>\n",
       "      <td>001</td>\n",
       "      <td>312</td>\n",
       "      <td>1</td>\n",
       "      <td>0</td>\n",
       "      <td>007</td>\n",
       "      <td></td>\n",
       "      <td>...</td>\n",
       "      <td>1</td>\n",
       "      <td>002</td>\n",
       "      <td></td>\n",
       "      <td>2008-0201-006</td>\n",
       "      <td>03-044307</td>\n",
       "      <td>88933</td>\n",
       "      <td></td>\n",
       "      <td>203129.34784</td>\n",
       "      <td>541838.75856</td>\n",
       "      <td></td>\n",
       "    </tr>\n",
       "    <tr>\n",
       "      <th>3</th>\n",
       "      <td>03-0000048361</td>\n",
       "      <td>001</td>\n",
       "      <td>002</td>\n",
       "      <td>999</td>\n",
       "      <td>001</td>\n",
       "      <td>288</td>\n",
       "      <td>1</td>\n",
       "      <td>0</td>\n",
       "      <td>007</td>\n",
       "      <td></td>\n",
       "      <td>...</td>\n",
       "      <td>1</td>\n",
       "      <td>002</td>\n",
       "      <td></td>\n",
       "      <td>2008-0201-006</td>\n",
       "      <td>03-048361</td>\n",
       "      <td>88934</td>\n",
       "      <td></td>\n",
       "      <td>202976.86616</td>\n",
       "      <td>542798.94598</td>\n",
       "      <td></td>\n",
       "    </tr>\n",
       "    <tr>\n",
       "      <th>4</th>\n",
       "      <td>03-0000015050</td>\n",
       "      <td>001</td>\n",
       "      <td>002</td>\n",
       "      <td>999</td>\n",
       "      <td>001</td>\n",
       "      <td>302</td>\n",
       "      <td>1</td>\n",
       "      <td>0</td>\n",
       "      <td>007</td>\n",
       "      <td></td>\n",
       "      <td>...</td>\n",
       "      <td>1</td>\n",
       "      <td>002</td>\n",
       "      <td></td>\n",
       "      <td>2008-0201-006</td>\n",
       "      <td>03-015050</td>\n",
       "      <td>88935</td>\n",
       "      <td></td>\n",
       "      <td>203026.11371</td>\n",
       "      <td>542800.32686</td>\n",
       "      <td></td>\n",
       "    </tr>\n",
       "  </tbody>\n",
       "</table>\n",
       "<p>5 rows × 25 columns</p>\n",
       "</div>"
      ],
      "text/plain": [
       "         부착대관리번호 상태 (공통) 부착방식 부착대길이 고가 (공통)  부착대방향  신호등수량  배면등수량 신호등종류 배면등종류  \\\n",
       "0  03-0000034286     001  003   009     001    195      2      0   003   002   \n",
       "1  03-0000044336     001  003   011     001    102      3      0   003   002   \n",
       "2  03-0000044307     001  002   999     001    312      1      0   007         \n",
       "3  03-0000048361     001  002   999     001    288      1      0   007         \n",
       "4  03-0000015050     001  002   999     001    302      1      0   007         \n",
       "\n",
       "   ... 작업구분 (공통) 표출구분 (공통) 신규정규화ID         공사관리번호  부착대관리번호.1   이력ID 위치정보  \\\n",
       "0  ...         4       001          2004-1101-152  03-034286  88931        \n",
       "1  ...         2       001          2004-1101-152  03-044336  88932        \n",
       "2  ...         1       002          2008-0201-006  03-044307  88933        \n",
       "3  ...         1       002          2008-0201-006  03-048361  88934        \n",
       "4  ...         1       002          2008-0201-006  03-015050  88935        \n",
       "\n",
       "            X좌표           Y좌표 공사형태 (공통)  \n",
       "0  202650.00560  542705.46253            \n",
       "1  202714.48048  542715.77569            \n",
       "2  203129.34784  541838.75856            \n",
       "3  202976.86616  542798.94598            \n",
       "4  203026.11371  542800.32686            \n",
       "\n",
       "[5 rows x 25 columns]"
      ]
     },
     "execution_count": 130,
     "metadata": {},
     "output_type": "execute_result"
    }
   ],
   "source": [
    "df.head(5)"
   ]
  },
  {
   "cell_type": "code",
   "execution_count": 131,
   "id": "fabulous-partner",
   "metadata": {},
   "outputs": [
    {
     "data": {
      "text/plain": [
       "Index(['부착대관리번호', '상태 (공통)', '부착방식', '부착대길이', '고가 (공통)', '부착대방향', '신호등수량',\n",
       "       '배면등수량', '신호등종류', '배면등종류', '설치일', '교체일', '지주관리번호', '신호발광구분', '제조회사',\n",
       "       '작업구분 (공통)', '표출구분 (공통)', '신규정규화ID', '공사관리번호', '부착대관리번호.1', '이력ID',\n",
       "       '위치정보', 'X좌표', 'Y좌표', '공사형태 (공통)'],\n",
       "      dtype='object')"
      ]
     },
     "execution_count": 131,
     "metadata": {},
     "output_type": "execute_result"
    }
   ],
   "source": [
    "df.columns"
   ]
  },
  {
   "cell_type": "code",
   "execution_count": 132,
   "id": "daily-dietary",
   "metadata": {},
   "outputs": [],
   "source": [
    "df = df.drop(['상태 (공통)', '부착방식', '부착대길이', '고가 (공통)', '부착대방향', '배면등수량',\n",
    "       '신호등종류', '배면등종류', '설치일', '교체일', '지주관리번호', '신호발광구분', '제조회사', '작업구분 (공통)',\n",
    "       '표출구분 (공통)', '신규정규화ID', '공사관리번호', '부착대관리번호', '이력ID', '위치정보',\n",
    "       '공사형태 (공통)','부착대관리번호.1'],axis='columns')"
   ]
  },
  {
   "cell_type": "code",
   "execution_count": 133,
   "id": "local-cruise",
   "metadata": {},
   "outputs": [
    {
     "data": {
      "text/html": [
       "<div>\n",
       "<style scoped>\n",
       "    .dataframe tbody tr th:only-of-type {\n",
       "        vertical-align: middle;\n",
       "    }\n",
       "\n",
       "    .dataframe tbody tr th {\n",
       "        vertical-align: top;\n",
       "    }\n",
       "\n",
       "    .dataframe thead th {\n",
       "        text-align: right;\n",
       "    }\n",
       "</style>\n",
       "<table border=\"1\" class=\"dataframe\">\n",
       "  <thead>\n",
       "    <tr style=\"text-align: right;\">\n",
       "      <th></th>\n",
       "      <th>신호등수량</th>\n",
       "      <th>X좌표</th>\n",
       "      <th>Y좌표</th>\n",
       "    </tr>\n",
       "  </thead>\n",
       "  <tbody>\n",
       "    <tr>\n",
       "      <th>0</th>\n",
       "      <td>2</td>\n",
       "      <td>202650.00560</td>\n",
       "      <td>542705.46253</td>\n",
       "    </tr>\n",
       "    <tr>\n",
       "      <th>1</th>\n",
       "      <td>3</td>\n",
       "      <td>202714.48048</td>\n",
       "      <td>542715.77569</td>\n",
       "    </tr>\n",
       "    <tr>\n",
       "      <th>2</th>\n",
       "      <td>1</td>\n",
       "      <td>203129.34784</td>\n",
       "      <td>541838.75856</td>\n",
       "    </tr>\n",
       "    <tr>\n",
       "      <th>3</th>\n",
       "      <td>1</td>\n",
       "      <td>202976.86616</td>\n",
       "      <td>542798.94598</td>\n",
       "    </tr>\n",
       "    <tr>\n",
       "      <th>4</th>\n",
       "      <td>1</td>\n",
       "      <td>203026.11371</td>\n",
       "      <td>542800.32686</td>\n",
       "    </tr>\n",
       "  </tbody>\n",
       "</table>\n",
       "</div>"
      ],
      "text/plain": [
       "   신호등수량           X좌표           Y좌표\n",
       "0      2  202650.00560  542705.46253\n",
       "1      3  202714.48048  542715.77569\n",
       "2      1  203129.34784  541838.75856\n",
       "3      1  202976.86616  542798.94598\n",
       "4      1  203026.11371  542800.32686"
      ]
     },
     "execution_count": 133,
     "metadata": {},
     "output_type": "execute_result"
    }
   ],
   "source": [
    "df.head(5)"
   ]
  },
  {
   "cell_type": "code",
   "execution_count": 135,
   "id": "cooked-baking",
   "metadata": {},
   "outputs": [],
   "source": [
    "import geopandas as gpd\n",
    "from shapely.geometry import Point, Polygon, LineString\n",
    "\n",
    "\n",
    "df['X좌표'] = df['X좌표'].astype(float)\n",
    "df['Y좌표'] = df['Y좌표'].astype(float)\n",
    "df['geometry'] = df.apply(lambda row : Point([row['X좌표'], row['Y좌표']]), axis=1)\n",
    "df = gpd.GeoDataFrame(df, geometry='geometry')"
   ]
  },
  {
   "cell_type": "code",
   "execution_count": 136,
   "id": "invisible-butler",
   "metadata": {},
   "outputs": [],
   "source": [
    "from fiona.crs import from_string\n",
    "\n",
    "epsg5186 = from_string(\"+proj=tmerc +lat_0=38 +lon_0=127 +k=1 +x_0=200000 +y_0=600000 +ellps=GRS80 +units=m +no_defs\")"
   ]
  },
  {
   "cell_type": "code",
   "execution_count": 137,
   "id": "derived-therapist",
   "metadata": {
    "scrolled": true
   },
   "outputs": [
    {
     "name": "stdout",
     "output_type": "stream",
     "text": [
      "+proj=tmerc +lat_0=38 +lon_0=127 +k=1 +x_0=200000 +y_0=600000 +ellps=GRS80 +units=m +no_defs +type=crs\n"
     ]
    }
   ],
   "source": [
    "df.crs = epsg5186\n",
    "print(df.crs)"
   ]
  },
  {
   "cell_type": "code",
   "execution_count": 138,
   "id": "successful-lloyd",
   "metadata": {},
   "outputs": [],
   "source": [
    "wgs84 = from_string(\"+proj=longlat +ellps=WGS84 +datum=WGS84 +no_defs\")"
   ]
  },
  {
   "cell_type": "code",
   "execution_count": 139,
   "id": "celtic-metro",
   "metadata": {},
   "outputs": [
    {
     "data": {
      "text/plain": [
       "0    POINT (127.02996 37.48379)\n",
       "1    POINT (127.03069 37.48388)\n",
       "2    POINT (127.03538 37.47598)\n",
       "3    POINT (127.03366 37.48463)\n",
       "4    POINT (127.03422 37.48464)\n",
       "Name: geometry, dtype: geometry"
      ]
     },
     "execution_count": 139,
     "metadata": {},
     "output_type": "execute_result"
    }
   ],
   "source": [
    "df = df.to_crs(wgs84)\n",
    "df[\"geometry\"].head()"
   ]
  },
  {
   "cell_type": "code",
   "execution_count": 140,
   "id": "portuguese-problem",
   "metadata": {},
   "outputs": [
    {
     "data": {
      "text/html": [
       "<div>\n",
       "<style scoped>\n",
       "    .dataframe tbody tr th:only-of-type {\n",
       "        vertical-align: middle;\n",
       "    }\n",
       "\n",
       "    .dataframe tbody tr th {\n",
       "        vertical-align: top;\n",
       "    }\n",
       "\n",
       "    .dataframe thead th {\n",
       "        text-align: right;\n",
       "    }\n",
       "</style>\n",
       "<table border=\"1\" class=\"dataframe\">\n",
       "  <thead>\n",
       "    <tr style=\"text-align: right;\">\n",
       "      <th></th>\n",
       "      <th>신호등수량</th>\n",
       "      <th>X좌표</th>\n",
       "      <th>Y좌표</th>\n",
       "      <th>geometry</th>\n",
       "    </tr>\n",
       "  </thead>\n",
       "  <tbody>\n",
       "    <tr>\n",
       "      <th>0</th>\n",
       "      <td>2</td>\n",
       "      <td>202650.00560</td>\n",
       "      <td>542705.46253</td>\n",
       "      <td>POINT (127.02996 37.48379)</td>\n",
       "    </tr>\n",
       "    <tr>\n",
       "      <th>1</th>\n",
       "      <td>3</td>\n",
       "      <td>202714.48048</td>\n",
       "      <td>542715.77569</td>\n",
       "      <td>POINT (127.03069 37.48388)</td>\n",
       "    </tr>\n",
       "    <tr>\n",
       "      <th>2</th>\n",
       "      <td>1</td>\n",
       "      <td>203129.34784</td>\n",
       "      <td>541838.75856</td>\n",
       "      <td>POINT (127.03538 37.47598)</td>\n",
       "    </tr>\n",
       "    <tr>\n",
       "      <th>3</th>\n",
       "      <td>1</td>\n",
       "      <td>202976.86616</td>\n",
       "      <td>542798.94598</td>\n",
       "      <td>POINT (127.03366 37.48463)</td>\n",
       "    </tr>\n",
       "    <tr>\n",
       "      <th>4</th>\n",
       "      <td>1</td>\n",
       "      <td>203026.11371</td>\n",
       "      <td>542800.32686</td>\n",
       "      <td>POINT (127.03422 37.48464)</td>\n",
       "    </tr>\n",
       "  </tbody>\n",
       "</table>\n",
       "</div>"
      ],
      "text/plain": [
       "   신호등수량           X좌표           Y좌표                    geometry\n",
       "0      2  202650.00560  542705.46253  POINT (127.02996 37.48379)\n",
       "1      3  202714.48048  542715.77569  POINT (127.03069 37.48388)\n",
       "2      1  203129.34784  541838.75856  POINT (127.03538 37.47598)\n",
       "3      1  202976.86616  542798.94598  POINT (127.03366 37.48463)\n",
       "4      1  203026.11371  542800.32686  POINT (127.03422 37.48464)"
      ]
     },
     "execution_count": 140,
     "metadata": {},
     "output_type": "execute_result"
    }
   ],
   "source": [
    "df.head()"
   ]
  },
  {
   "cell_type": "code",
   "execution_count": 161,
   "id": "determined-harbor",
   "metadata": {},
   "outputs": [],
   "source": [
    "df.iloc[1]['geometry'].x\n",
    "df2 = pd.DataFrame()\n",
    "df2['lon'] = df['geometry'].map(lambda t : t.x)\n",
    "df2['lat'] = df['geometry'].map(lambda t : t.y)\n",
    "df2['신호등수량'] = df['신호등수량']"
   ]
  },
  {
   "cell_type": "code",
   "execution_count": 162,
   "id": "worse-mortgage",
   "metadata": {},
   "outputs": [
    {
     "data": {
      "text/html": [
       "<div>\n",
       "<style scoped>\n",
       "    .dataframe tbody tr th:only-of-type {\n",
       "        vertical-align: middle;\n",
       "    }\n",
       "\n",
       "    .dataframe tbody tr th {\n",
       "        vertical-align: top;\n",
       "    }\n",
       "\n",
       "    .dataframe thead th {\n",
       "        text-align: right;\n",
       "    }\n",
       "</style>\n",
       "<table border=\"1\" class=\"dataframe\">\n",
       "  <thead>\n",
       "    <tr style=\"text-align: right;\">\n",
       "      <th></th>\n",
       "      <th>lon</th>\n",
       "      <th>lat</th>\n",
       "      <th>신호등수량</th>\n",
       "    </tr>\n",
       "  </thead>\n",
       "  <tbody>\n",
       "    <tr>\n",
       "      <th>0</th>\n",
       "      <td>127.029962</td>\n",
       "      <td>37.483790</td>\n",
       "      <td>2</td>\n",
       "    </tr>\n",
       "    <tr>\n",
       "      <th>1</th>\n",
       "      <td>127.030691</td>\n",
       "      <td>37.483883</td>\n",
       "      <td>3</td>\n",
       "    </tr>\n",
       "    <tr>\n",
       "      <th>2</th>\n",
       "      <td>127.035378</td>\n",
       "      <td>37.475980</td>\n",
       "      <td>1</td>\n",
       "    </tr>\n",
       "    <tr>\n",
       "      <th>3</th>\n",
       "      <td>127.033658</td>\n",
       "      <td>37.484631</td>\n",
       "      <td>1</td>\n",
       "    </tr>\n",
       "    <tr>\n",
       "      <th>4</th>\n",
       "      <td>127.034215</td>\n",
       "      <td>37.484644</td>\n",
       "      <td>1</td>\n",
       "    </tr>\n",
       "    <tr>\n",
       "      <th>...</th>\n",
       "      <td>...</td>\n",
       "      <td>...</td>\n",
       "      <td>...</td>\n",
       "    </tr>\n",
       "    <tr>\n",
       "      <th>109995</th>\n",
       "      <td>126.818338</td>\n",
       "      <td>37.487184</td>\n",
       "      <td>1</td>\n",
       "    </tr>\n",
       "    <tr>\n",
       "      <th>109996</th>\n",
       "      <td>127.070194</td>\n",
       "      <td>37.631123</td>\n",
       "      <td>1</td>\n",
       "    </tr>\n",
       "    <tr>\n",
       "      <th>109997</th>\n",
       "      <td>127.057387</td>\n",
       "      <td>37.670952</td>\n",
       "      <td>1</td>\n",
       "    </tr>\n",
       "    <tr>\n",
       "      <th>109998</th>\n",
       "      <td>127.058284</td>\n",
       "      <td>37.671118</td>\n",
       "      <td>1</td>\n",
       "    </tr>\n",
       "    <tr>\n",
       "      <th>109999</th>\n",
       "      <td>127.029973</td>\n",
       "      <td>37.657915</td>\n",
       "      <td>1</td>\n",
       "    </tr>\n",
       "  </tbody>\n",
       "</table>\n",
       "<p>110000 rows × 3 columns</p>\n",
       "</div>"
      ],
      "text/plain": [
       "               lon        lat  신호등수량\n",
       "0       127.029962  37.483790      2\n",
       "1       127.030691  37.483883      3\n",
       "2       127.035378  37.475980      1\n",
       "3       127.033658  37.484631      1\n",
       "4       127.034215  37.484644      1\n",
       "...            ...        ...    ...\n",
       "109995  126.818338  37.487184      1\n",
       "109996  127.070194  37.631123      1\n",
       "109997  127.057387  37.670952      1\n",
       "109998  127.058284  37.671118      1\n",
       "109999  127.029973  37.657915      1\n",
       "\n",
       "[110000 rows x 3 columns]"
      ]
     },
     "execution_count": 162,
     "metadata": {},
     "output_type": "execute_result"
    }
   ],
   "source": [
    "df2"
   ]
  },
  {
   "cell_type": "code",
   "execution_count": 163,
   "id": "identified-lightweight",
   "metadata": {},
   "outputs": [],
   "source": [
    "df2 = df2.rename({'lat':'위도','lon':'경도'},axis='columns')\n",
    "df2 = df2[['신호등수량','위도','경도']]"
   ]
  },
  {
   "cell_type": "code",
   "execution_count": 170,
   "id": "found-speech",
   "metadata": {},
   "outputs": [
    {
     "name": "stdout",
     "output_type": "stream",
     "text": [
      "        신호등수량         위도          경도\n",
      "386         4  37.599128  126.947608\n",
      "387         4  37.599128  126.947608\n",
      "388         4  37.599128  126.947608\n",
      "700         1  37.610465  126.946898\n",
      "702         1  37.597023  126.947607\n",
      "...       ...        ...         ...\n",
      "108493      4  37.594476  126.946057\n",
      "108589      2  37.595620  126.948895\n",
      "109354      2  37.601823  126.961116\n",
      "109355      2  37.602130  126.961135\n",
      "109831      1  37.595615  126.948908\n",
      "\n",
      "[478 rows x 3 columns] 704\n",
      "        신호등수량         위도          경도\n",
      "3019        2  37.606869  126.958980\n",
      "4769        2  37.600049  126.958185\n",
      "5196        4  37.600815  126.956923\n",
      "5197        2  37.600815  126.956923\n",
      "5198        1  37.599976  126.958122\n",
      "...       ...        ...         ...\n",
      "106828      1  37.599943  126.957731\n",
      "107178      1  37.600049  126.958185\n",
      "107181      2  37.600074  126.957837\n",
      "107214      1  37.599875  126.957874\n",
      "107292      1  37.600049  126.958185\n",
      "\n",
      "[73 rows x 3 columns] 115\n"
     ]
    }
   ],
   "source": [
    "lon =126.955009\n",
    "lat =37.6027953\n",
    "\n",
    "tmp1 = get_xy(df2, lon, lat, 2) # return dataframe \n",
    "tmp2 = get_xy(df2, lon, lat, 1)\n",
    "\n",
    "print(tmp1,tmp1['신호등수량'].sum())\n",
    "print(tmp2,tmp2['신호등수량'].sum())"
   ]
  },
  {
   "cell_type": "code",
   "execution_count": null,
   "id": "offshore-seattle",
   "metadata": {},
   "outputs": [],
   "source": []
  },
  {
   "cell_type": "code",
   "execution_count": null,
   "id": "laughing-gateway",
   "metadata": {},
   "outputs": [],
   "source": []
  }
 ],
 "metadata": {
  "kernelspec": {
   "display_name": "Python 3",
   "language": "python",
   "name": "python3"
  },
  "language_info": {
   "codemirror_mode": {
    "name": "ipython",
    "version": 3
   },
   "file_extension": ".py",
   "mimetype": "text/x-python",
   "name": "python",
   "nbconvert_exporter": "python",
   "pygments_lexer": "ipython3",
   "version": "3.8.5"
  }
 },
 "nbformat": 4,
 "nbformat_minor": 5
}
