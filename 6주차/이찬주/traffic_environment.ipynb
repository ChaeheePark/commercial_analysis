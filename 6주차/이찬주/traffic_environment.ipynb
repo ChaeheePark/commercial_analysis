{
 "cells": [
  {
   "cell_type": "code",
   "execution_count": 27,
   "id": "confidential-perry",
   "metadata": {},
   "outputs": [],
   "source": [
    "import pandas as pd\n",
    "import geopandas as gpd\n",
    "from shapely.geometry import Point, Polygon, LineString\n",
    "from fiona.crs import from_string\n",
    "import warnings\n",
    "warnings.filterwarnings(action = 'ignore')"
   ]
  },
  {
   "cell_type": "code",
   "execution_count": 28,
   "id": "electronic-multiple",
   "metadata": {},
   "outputs": [],
   "source": [
    "#위도 =111.195km , 경도 88.8km , 2km 박스일 때 반경  1.414\n",
    "def dis_to_lat(km):\n",
    "    return km/111.195\n",
    "def dis_to_lon(km):\n",
    "    return km/88.8\n",
    "\n",
    "def lat_to_dis(lat):\n",
    "    return lat*111.195\n",
    "def lon_to_dis(lon):\n",
    "    return lon*88.8\n",
    "\n",
    "def get_xy(data,lon, lat,km):\n",
    "    lat_size = dis_to_lat(km)\n",
    "    lon_size = dis_to_lon(km)\n",
    "    return data[(data['위도']<=lat+lat_size/2) & (data['위도']>=lat-lat_size/2) &\n",
    "                 (data['경도']<=lon+lon_size/2) & (data['경도']>=lon-lon_size/2)]"
   ]
  },
  {
   "cell_type": "code",
   "execution_count": 36,
   "id": "italian-quebec",
   "metadata": {},
   "outputs": [],
   "source": [
    "def get_traffic_light(lon, lat, km):\n",
    "    global df,df2\n",
    "    df = pd.read_csv(\"/Users/chanju/github/smussp/6주차/이찬주/서울시 신호등 관련 정보.csv\",encoding='CP949')\n",
    "    df['X좌표'] = df['X좌표'].astype(float)\n",
    "    df['Y좌표'] = df['Y좌표'].astype(float)\n",
    "    df['geometry'] = df.apply(lambda row : Point([row['X좌표'], row['Y좌표']]), axis=1)\n",
    "    df = gpd.GeoDataFrame(df, geometry='geometry')\n",
    "    df.crs = from_string(\"+proj=tmerc +lat_0=38 +lon_0=127 +k=1 +x_0=200000 +y_0=600000 +ellps=GRS80 +units=m +no_defs\")\n",
    "    wgs84 = from_string(\"+proj=longlat +ellps=WGS84 +datum=WGS84 +no_defs\")\n",
    "    df = df.to_crs(wgs84)\n",
    "    df['lon'] = df['geometry'].map(lambda t : t.x)\n",
    "    df['lat'] = df['geometry'].map(lambda t : t.y)\n",
    "    df = df.rename({'lat':'위도','lon':'경도'},axis='columns')\n",
    "    df = df[['신호등수량','위도','경도']]\n",
    "    return get_xy(df, lon, lat, km)"
   ]
  },
  {
   "cell_type": "code",
   "execution_count": 37,
   "id": "impossible-statement",
   "metadata": {},
   "outputs": [],
   "source": [
    "def get_crosswalk(lon,lat,km) :\n",
    "    global df3\n",
    "    df3 = pd.read_csv(\"/Users/chanju/github/smussp/6주차/이찬주/서울시 횡단보도 위치정보 (좌표계_ WGS1984).csv\",encoding='CP949')\n",
    "    df3 = df3.drop(['순번', '상태', '횡단보도종류코드', '가로길이', '세로길이', '화살표시수량', '화살표시길이',\n",
    "       '고가', '구경찰서코드', '구코드', '동코드', '지번', '신경찰서코드', '작업구분', '표출구분', '도로구분',\n",
    "       '관할사업소', '신규정규화ID', '설치일', '교체일', '이력ID', '공사관리번호', '횡단보도관리번호.1',\n",
    "       '공사형태'], axis='columns')\n",
    "    return get_xy(df3, lon, lat, km)"
   ]
  },
  {
   "cell_type": "code",
   "execution_count": 38,
   "id": "simple-binding",
   "metadata": {},
   "outputs": [],
   "source": [
    "def get_bus_stop(lon,lat,km) :\n",
    "    global df4\n",
    "    df4 = pd.read_csv(\"/Users/chanju/github/smussp/6주차/이찬주/서울특별시 버스정류소 위치정보.csv\",encoding='CP949')\n",
    "    df4 = df4.drop(['정류소번호'],axis=1)\n",
    "    df4 = df4.rename({'X좌표':'경도','Y좌표':'위도'},axis=1)\n",
    "    df4 = df4[['정류소명','위도','경도']]\n",
    "    \n",
    "    return get_xy(df4,lon,lat,km)"
   ]
  },
  {
   "cell_type": "code",
   "execution_count": 40,
   "id": "frozen-delicious",
   "metadata": {},
   "outputs": [],
   "source": [
    "def get_subway(lon,lat,km) :\n",
    "    global df5\n",
    "    df5 = pd.read_csv(\"/Users/chanju/github/smussp/6주차/이찬주/station_coordinate.csv\")\n",
    "    df5 = df5.drop(['line','code'],axis=1)\n",
    "    df5 = df5.rename({'lat':'위도','lng':'경도'},axis=1)\n",
    "    return get_xy(df5,lon,lat,km)"
   ]
  },
  {
   "cell_type": "code",
   "execution_count": 41,
   "id": "royal-picture",
   "metadata": {},
   "outputs": [],
   "source": [
    "def mean_top10(environment):\n",
    "    eev_sum = 0\n",
    "    for i in range(0,9):\n",
    "        eev = environment[i]\n",
    "        eev_sum += len(environment[i])\n",
    "        \n",
    "    mean_ev = eev_sum / 10\n",
    "    return mean_ev"
   ]
  },
  {
   "cell_type": "code",
   "execution_count": 42,
   "id": "pregnant-brush",
   "metadata": {},
   "outputs": [],
   "source": [
    "def score_ev(mean_tl, mean_cw, mean_bs, mean_sb,target_tl,target_cw,target_bs,target_sb):\n",
    "    \n",
    "    if(mean_tl != 0):\n",
    "        score_tl = (len(target_tl)/mean_tl)\n",
    "        if (score_tl > 1):\n",
    "            score_tl = 1\n",
    "    else:\n",
    "        score_tl = 0\n",
    "\n",
    "    if(mean_cw != 0):\n",
    "        score_cw = (len(target_cw)/mean_cw)\n",
    "        if (score_cw > 1):\n",
    "            score_cw = 1\n",
    "    else:\n",
    "        score_cw = 0\n",
    "    \n",
    "    if(mean_bs != 0):\n",
    "        score_bs = (len(target_bs)/mean_bs)\n",
    "        if (score_bs > 1):\n",
    "            score_bs = 1\n",
    "    else:\n",
    "        score_bs = 0\n",
    "\n",
    "    if (mean_sb != 0): \n",
    "        score_sb = (len(target_sb)/mean_sb)\n",
    "        if (score_sb > 1):\n",
    "            score_sb = 1\n",
    "    else:\n",
    "        score_sb = 0\n",
    "        \n",
    "    traffic_score = score_tl + score_cw + score_bs + score_sb\n",
    "    \n",
    "    traffic_score = traffic_score * 25\n",
    "    \n",
    "    return traffic_score"
   ]
  },
  {
   "cell_type": "code",
   "execution_count": 43,
   "id": "early-quality",
   "metadata": {},
   "outputs": [],
   "source": [
    "def get_score(test_df,target_lon,target_lat,km):\n",
    "    tl=[]\n",
    "    cw=[]\n",
    "    bs=[]\n",
    "    sb = []\n",
    "    \n",
    "    for tup in zip(list(test_df['경도']),list(test_df['위도'])):\n",
    "        tl.append(get_traffic_light(tup[0], tup[1], 1))\n",
    "        cw.append(get_crosswalk(tup[0], tup[1], 1))\n",
    "        bs.append(get_bus_stop(tup[0], tup[1], 1))\n",
    "        sb.append(get_subway(tup[0], tup[1], 1))\n",
    "        \n",
    "    mean_tl = mean_top10(tl)\n",
    "    mean_cw = mean_top10(cw)\n",
    "    mean_bs = mean_top10(bs)\n",
    "    mean_sb = mean_top10(sb)\n",
    "    \n",
    "    target_tl = get_traffic_light(target_lon,target_lat,km)\n",
    "    target_cw = get_crosswalk(target_lon,target_lat,km)\n",
    "    target_bs = get_bus_stop(target_lon,target_lat,km)\n",
    "    target_sb = get_subway(target_lon,target_lat,km)\n",
    "    \n",
    "    traffic_score = score_ev(mean_tl,mean_cw,mean_bs,mean_sb,target_tl,target_cw,target_bs,target_sb)\n",
    "\n",
    "    return traffic_score    "
   ]
  }
 ],
 "metadata": {
  "kernelspec": {
   "display_name": "Python 3",
   "language": "python",
   "name": "python3"
  },
  "language_info": {
   "codemirror_mode": {
    "name": "ipython",
    "version": 3
   },
   "file_extension": ".py",
   "mimetype": "text/x-python",
   "name": "python",
   "nbconvert_exporter": "python",
   "pygments_lexer": "ipython3",
   "version": "3.8.5"
  }
 },
 "nbformat": 4,
 "nbformat_minor": 5
}
