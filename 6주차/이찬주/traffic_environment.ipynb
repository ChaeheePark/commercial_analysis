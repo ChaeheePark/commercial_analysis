{
 "cells": [
  {
   "cell_type": "code",
   "execution_count": 1,
   "id": "confidential-perry",
   "metadata": {},
   "outputs": [],
   "source": [
    "import pandas as pd\n",
    "import geopandas as gpd\n",
    "from shapely.geometry import Point, Polygon, LineString\n",
    "from fiona.crs import from_string\n",
    "import warnings\n",
    "warnings.filterwarnings(action = 'ignore')"
   ]
  },
  {
   "cell_type": "code",
   "execution_count": 2,
   "id": "electronic-multiple",
   "metadata": {},
   "outputs": [],
   "source": [
    "#위도 =111.195km , 경도 88.8km , 2km 박스일 때 반경  1.414\n",
    "def dis_to_lat(km):\n",
    "    return km/111.195\n",
    "def dis_to_lon(km):\n",
    "    return km/88.8\n",
    "\n",
    "def lat_to_dis(lat):\n",
    "    return lat*111.195\n",
    "def lon_to_dis(lon):\n",
    "    return lon*88.8\n",
    "\n",
    "def get_xy(data,lon, lat,km):\n",
    "    lat_size = dis_to_lat(km)\n",
    "    lon_size = dis_to_lon(km)\n",
    "    return data[(data['위도']<=lat+lat_size/2) & (data['위도']>=lat-lat_size/2) &\n",
    "                 (data['경도']<=lon+lon_size/2) & (data['경도']>=lon-lon_size/2)]"
   ]
  },
  {
   "cell_type": "code",
   "execution_count": 3,
   "id": "italian-quebec",
   "metadata": {},
   "outputs": [],
   "source": [
    "def get_traffic_light(lon, lat, km):\n",
    "    global df,df2\n",
    "    df = pd.read_csv(\"/Users/chanju/github/smussp/6주차/이찬주/서울시 신호등 관련 정보.csv\",encoding='CP949')\n",
    "    df['X좌표'] = df['X좌표'].astype(float)\n",
    "    df['Y좌표'] = df['Y좌표'].astype(float)\n",
    "    df['geometry'] = df.apply(lambda row : Point([row['X좌표'], row['Y좌표']]), axis=1)\n",
    "    df = gpd.GeoDataFrame(df, geometry='geometry')\n",
    "    df.crs = from_string(\"+proj=tmerc +lat_0=38 +lon_0=127 +k=1 +x_0=200000 +y_0=600000 +ellps=GRS80 +units=m +no_defs\")\n",
    "    wgs84 = from_string(\"+proj=longlat +ellps=WGS84 +datum=WGS84 +no_defs\")\n",
    "    df = df.to_crs(wgs84)\n",
    "    df['lon'] = df['geometry'].map(lambda t : t.x)\n",
    "    df['lat'] = df['geometry'].map(lambda t : t.y)\n",
    "    df = df.rename({'lat':'위도','lon':'경도'},axis='columns')\n",
    "    df = df[['신호등수량','위도','경도']]\n",
    "    return get_xy(df, lon, lat, km)"
   ]
  },
  {
   "cell_type": "code",
   "execution_count": 4,
   "id": "impossible-statement",
   "metadata": {},
   "outputs": [],
   "source": [
    "def get_crosswalk(lon,lat,km) :\n",
    "    global df3\n",
    "    df3 = pd.read_csv(\"/Users/chanju/github/smussp/6주차/이찬주/서울시 횡단보도 위치정보 (좌표계_ WGS1984).csv\",encoding='CP949')\n",
    "    df3 = df3.drop(['순번', '상태', '횡단보도종류코드', '가로길이', '세로길이', '화살표시수량', '화살표시길이',\n",
    "       '고가', '구경찰서코드', '구코드', '동코드', '지번', '신경찰서코드', '작업구분', '표출구분', '도로구분',\n",
    "       '관할사업소', '신규정규화ID', '설치일', '교체일', '이력ID', '공사관리번호', '횡단보도관리번호.1',\n",
    "       '공사형태'], axis='columns')\n",
    "    return get_xy(df3, lon, lat, km)"
   ]
  },
  {
   "cell_type": "code",
   "execution_count": 5,
   "id": "simple-binding",
   "metadata": {},
   "outputs": [],
   "source": [
    "def get_bus_stop(lon,lat,km) :\n",
    "    global df4\n",
    "    df4 = pd.read_csv(\"/Users/chanju/github/smussp/6주차/이찬주/서울특별시 버스정류소 위치정보.csv\",encoding='CP949')\n",
    "    df4 = df4.drop(['정류소번호'],axis=1)\n",
    "    df4 = df4.rename({'X좌표':'경도','Y좌표':'위도'},axis=1)\n",
    "    df4 = df4[['정류소명','위도','경도']]\n",
    "    \n",
    "    return get_xy(df4,lon,lat,km)"
   ]
  },
  {
   "cell_type": "code",
   "execution_count": 6,
   "id": "frozen-delicious",
   "metadata": {},
   "outputs": [],
   "source": [
    "def get_subway(lon,lat,km) :\n",
    "    global df5\n",
    "    df5 = pd.read_csv(\"/Users/chanju/github/smussp/6주차/이찬주/station_coordinate.csv\")\n",
    "    df5 = df5.drop(['line','code'],axis=1)\n",
    "    df5 = df5.rename({'lat':'위도','lng':'경도'},axis=1)\n",
    "    return get_xy(df5,lon,lat,km)"
   ]
  },
  {
   "cell_type": "code",
   "execution_count": 7,
   "id": "royal-picture",
   "metadata": {},
   "outputs": [],
   "source": [
    "def mean_top10(environment):\n",
    "    eev_sum = 0\n",
    "    for i in range(0,9):\n",
    "        eev = environment[i]\n",
    "        eev_sum += len(environment[i])\n",
    "        \n",
    "    mean_ev = eev_sum / 10\n",
    "    return mean_ev"
   ]
  },
  {
   "cell_type": "code",
   "execution_count": 11,
   "id": "pregnant-brush",
   "metadata": {},
   "outputs": [],
   "source": [
    "def score_ev(mean_tl, mean_cw, mean_bs, mean_sb,target_tl,target_cw,target_bs,target_sb):\n",
    "    \n",
    "    if(mean_tl != 0):\n",
    "        score_tl = (len(target_tl)/mean_tl)\n",
    "        if (score_tl > 1):\n",
    "            score_tl = 1\n",
    "    else:\n",
    "        score_tl = 0\n",
    "\n",
    "    if(mean_cw != 0):\n",
    "        score_cw = (len(target_cw)/mean_cw)\n",
    "        if (score_cw > 1):\n",
    "            score_cw = 1\n",
    "    else:\n",
    "        score_cw = 0\n",
    "    \n",
    "    if(mean_bs != 0):\n",
    "        score_bs = (len(target_bs)/mean_bs)\n",
    "        if (score_bs > 1):\n",
    "            score_bs = 1\n",
    "    else:\n",
    "        score_bs = 0\n",
    "\n",
    "    if (mean_sb != 0): \n",
    "        score_sb = (len(target_sb)/mean_sb)\n",
    "        if (score_sb > 1):\n",
    "            score_sb = 1\n",
    "    else:\n",
    "        score_sb = 1\n",
    "        \n",
    "    traffic_score = score_tl + score_cw + score_bs + score_sb\n",
    "    \n",
    "    traffic_score = traffic_score * 25\n",
    "    \n",
    "    return traffic_score"
   ]
  },
  {
   "cell_type": "code",
   "execution_count": 29,
   "id": "early-quality",
   "metadata": {},
   "outputs": [],
   "source": [
    "def get_score(top10_df,target_lon,target_lat,km):\n",
    "    tl=[]\n",
    "    cw=[]\n",
    "    bs=[]\n",
    "    sb = []\n",
    "    \n",
    "    for tup in zip(list(top10_df['경도']),list(top10_df['위도'])):\n",
    "        tl.append(get_traffic_light(tup[0], tup[1], 1))\n",
    "        cw.append(get_crosswalk(tup[0], tup[1], 1))\n",
    "        bs.append(get_bus_stop(tup[0], tup[1], 1))\n",
    "        sb.append(get_subway(tup[0], tup[1], 1))\n",
    "        \n",
    "    mean_tl = mean_top10(tl)\n",
    "    mean_cw = mean_top10(cw)\n",
    "    mean_bs = mean_top10(bs)\n",
    "    mean_sb = mean_top10(sb)\n",
    "    \n",
    "    target_tl = get_traffic_light(target_lon,target_lat,km)\n",
    "    target_cw = get_crosswalk(target_lon,target_lat,km)\n",
    "    target_bs = get_bus_stop(target_lon,target_lat,km)\n",
    "    target_sb = get_subway(target_lon,target_lat,km)\n",
    "    \n",
    "    traffic_score = score_ev(mean_tl,mean_cw,mean_bs,mean_sb,target_tl,target_cw,target_bs,target_sb)\n",
    "\n",
    "    return traffic_score    "
   ]
  },
  {
   "cell_type": "code",
   "execution_count": 30,
   "id": "unlimited-yorkshire",
   "metadata": {},
   "outputs": [
    {
     "name": "stdout",
     "output_type": "stream",
     "text": [
      "80\n"
     ]
    }
   ],
   "source": [
    "#126.955198,37.602663\n",
    "#test_df = df4.iloc[:10]\n",
    "#get_score(test_df,126.955198,37.602663,0.5)\n",
    "get_crosswalk(126.955198,37.602663,0.6)\n",
    "get_bus_stop(126.955198,37.602663,0.5)\n",
    "get_subway(126.955198,37.602663,4)\n",
    "print(80)"
   ]
  },
  {
   "cell_type": "code",
   "execution_count": 33,
   "id": "numerical-salon",
   "metadata": {},
   "outputs": [
    {
     "data": {
      "text/html": [
       "<div>\n",
       "<style scoped>\n",
       "    .dataframe tbody tr th:only-of-type {\n",
       "        vertical-align: middle;\n",
       "    }\n",
       "\n",
       "    .dataframe tbody tr th {\n",
       "        vertical-align: top;\n",
       "    }\n",
       "\n",
       "    .dataframe thead th {\n",
       "        text-align: right;\n",
       "    }\n",
       "</style>\n",
       "<table border=\"1\" class=\"dataframe\">\n",
       "  <thead>\n",
       "    <tr style=\"text-align: right;\">\n",
       "      <th></th>\n",
       "      <th>이름</th>\n",
       "      <th>주소</th>\n",
       "      <th>위도</th>\n",
       "      <th>경도</th>\n",
       "    </tr>\n",
       "  </thead>\n",
       "  <tbody>\n",
       "    <tr>\n",
       "      <th>0</th>\n",
       "      <td>진미평양냉면</td>\n",
       "      <td>서울시 강남구 학동로 305-3 정각빌딩 1층</td>\n",
       "      <td>37.516145</td>\n",
       "      <td>127.036042</td>\n",
       "    </tr>\n",
       "    <tr>\n",
       "      <th>1</th>\n",
       "      <td>서관면옥</td>\n",
       "      <td>서울시 서초구 서초대로 56길 11 1층</td>\n",
       "      <td>37.493991</td>\n",
       "      <td>127.017269</td>\n",
       "    </tr>\n",
       "    <tr>\n",
       "      <th>2</th>\n",
       "      <td>오장동흥남집 본점</td>\n",
       "      <td>서울시 중구 마른내로 114</td>\n",
       "      <td>37.564341</td>\n",
       "      <td>127.000542</td>\n",
       "    </tr>\n",
       "    <tr>\n",
       "      <th>3</th>\n",
       "      <td>우래옥 본점</td>\n",
       "      <td>서울시 중구 창경궁로 62-29</td>\n",
       "      <td>37.568219</td>\n",
       "      <td>126.998714</td>\n",
       "    </tr>\n",
       "    <tr>\n",
       "      <th>4</th>\n",
       "      <td>해주냉면</td>\n",
       "      <td>서울시 송파구 백제고분로7길 8-16 1층</td>\n",
       "      <td>37.509653</td>\n",
       "      <td>127.079773</td>\n",
       "    </tr>\n",
       "    <tr>\n",
       "      <th>5</th>\n",
       "      <td>을밀대 본점</td>\n",
       "      <td>서울시 마포구 숭문길 24</td>\n",
       "      <td>37.547493</td>\n",
       "      <td>126.945532</td>\n",
       "    </tr>\n",
       "    <tr>\n",
       "      <th>6</th>\n",
       "      <td>오장동 함흥냉면</td>\n",
       "      <td>서울시 중구 마른내로 108</td>\n",
       "      <td>37.564272</td>\n",
       "      <td>126.999884</td>\n",
       "    </tr>\n",
       "    <tr>\n",
       "      <th>7</th>\n",
       "      <td>정인면옥</td>\n",
       "      <td>서울시 영등포구 국회대로76길 10 1층</td>\n",
       "      <td>37.530656</td>\n",
       "      <td>126.921558</td>\n",
       "    </tr>\n",
       "    <tr>\n",
       "      <th>8</th>\n",
       "      <td>남포면옥</td>\n",
       "      <td>서울시 중구 을지로3길 24</td>\n",
       "      <td>37.567146</td>\n",
       "      <td>126.981676</td>\n",
       "    </tr>\n",
       "    <tr>\n",
       "      <th>9</th>\n",
       "      <td>평양면옥</td>\n",
       "      <td>서울시 중구 장충단로 207</td>\n",
       "      <td>37.563030</td>\n",
       "      <td>127.006470</td>\n",
       "    </tr>\n",
       "  </tbody>\n",
       "</table>\n",
       "</div>"
      ],
      "text/plain": [
       "          이름                         주소         위도          경도\n",
       "0     진미평양냉면  서울시 강남구 학동로 305-3 정각빌딩 1층  37.516145  127.036042\n",
       "1       서관면옥     서울시 서초구 서초대로 56길 11 1층  37.493991  127.017269\n",
       "2  오장동흥남집 본점            서울시 중구 마른내로 114  37.564341  127.000542\n",
       "3     우래옥 본점          서울시 중구 창경궁로 62-29  37.568219  126.998714\n",
       "4       해주냉면    서울시 송파구 백제고분로7길 8-16 1층  37.509653  127.079773\n",
       "5     을밀대 본점             서울시 마포구 숭문길 24  37.547493  126.945532\n",
       "6   오장동 함흥냉면            서울시 중구 마른내로 108  37.564272  126.999884\n",
       "7       정인면옥     서울시 영등포구 국회대로76길 10 1층  37.530656  126.921558\n",
       "8       남포면옥            서울시 중구 을지로3길 24  37.567146  126.981676\n",
       "9       평양면옥            서울시 중구 장충단로 207  37.563030  127.006470"
      ]
     },
     "execution_count": 33,
     "metadata": {},
     "output_type": "execute_result"
    }
   ],
   "source": [
    "test = pd.read_csv(\"/Users/chanju/github/smussp/6주차/이찬주/냉면집.csv\",encoding = 'CP949')\n",
    "test"
   ]
  },
  {
   "cell_type": "code",
   "execution_count": 40,
   "id": "regulation-costa",
   "metadata": {},
   "outputs": [
    {
     "data": {
      "text/plain": [
       "82.93002014495042"
      ]
     },
     "execution_count": 40,
     "metadata": {},
     "output_type": "execute_result"
    }
   ],
   "source": [
    "score = get_score(test,127.036042,37.516145,0.5)\n",
    "\n",
    "\n",
    "score += 60\n",
    "score"
   ]
  },
  {
   "cell_type": "code",
   "execution_count": 42,
   "id": "dried-explanation",
   "metadata": {},
   "outputs": [
    {
     "data": {
      "text/plain": [
       "46"
      ]
     },
     "execution_count": 42,
     "metadata": {},
     "output_type": "execute_result"
    }
   ],
   "source": [
    "target_cw = get_crosswalk(127.036042,37.516145,0.5)\n",
    "len(target_cw)"
   ]
  },
  {
   "cell_type": "code",
   "execution_count": 44,
   "id": "postal-shaft",
   "metadata": {},
   "outputs": [
    {
     "data": {
      "text/html": [
       "<div>\n",
       "<style scoped>\n",
       "    .dataframe tbody tr th:only-of-type {\n",
       "        vertical-align: middle;\n",
       "    }\n",
       "\n",
       "    .dataframe tbody tr th {\n",
       "        vertical-align: top;\n",
       "    }\n",
       "\n",
       "    .dataframe thead th {\n",
       "        text-align: right;\n",
       "    }\n",
       "</style>\n",
       "<table border=\"1\" class=\"dataframe\">\n",
       "  <thead>\n",
       "    <tr style=\"text-align: right;\">\n",
       "      <th></th>\n",
       "      <th>정류소명</th>\n",
       "      <th>위도</th>\n",
       "      <th>경도</th>\n",
       "    </tr>\n",
       "  </thead>\n",
       "  <tbody>\n",
       "    <tr>\n",
       "      <th>9588</th>\n",
       "      <td>세관앞</td>\n",
       "      <td>37.515682</td>\n",
       "      <td>127.036104</td>\n",
       "    </tr>\n",
       "    <tr>\n",
       "      <th>9589</th>\n",
       "      <td>서울세관</td>\n",
       "      <td>37.517034</td>\n",
       "      <td>127.035466</td>\n",
       "    </tr>\n",
       "    <tr>\n",
       "      <th>9590</th>\n",
       "      <td>서울세관</td>\n",
       "      <td>37.517327</td>\n",
       "      <td>127.035215</td>\n",
       "    </tr>\n",
       "    <tr>\n",
       "      <th>9593</th>\n",
       "      <td>세관앞</td>\n",
       "      <td>37.515655</td>\n",
       "      <td>127.036434</td>\n",
       "    </tr>\n",
       "    <tr>\n",
       "      <th>9599</th>\n",
       "      <td>임페리얼팰리스호텔.워터게이트빌딩</td>\n",
       "      <td>37.514336</td>\n",
       "      <td>127.035430</td>\n",
       "    </tr>\n",
       "    <tr>\n",
       "      <th>9606</th>\n",
       "      <td>서울세관사거리</td>\n",
       "      <td>37.515297</td>\n",
       "      <td>127.034811</td>\n",
       "    </tr>\n",
       "  </tbody>\n",
       "</table>\n",
       "</div>"
      ],
      "text/plain": [
       "                   정류소명         위도          경도\n",
       "9588                세관앞  37.515682  127.036104\n",
       "9589               서울세관  37.517034  127.035466\n",
       "9590               서울세관  37.517327  127.035215\n",
       "9593                세관앞  37.515655  127.036434\n",
       "9599  임페리얼팰리스호텔.워터게이트빌딩  37.514336  127.035430\n",
       "9606            서울세관사거리  37.515297  127.034811"
      ]
     },
     "execution_count": 44,
     "metadata": {},
     "output_type": "execute_result"
    }
   ],
   "source": [
    "target_bs = get_bus_stop(127.036042,37.516145,0.5)\n",
    "target_bs"
   ]
  },
  {
   "cell_type": "code",
   "execution_count": 47,
   "id": "available-controversy",
   "metadata": {},
   "outputs": [
    {
     "data": {
      "text/html": [
       "<div>\n",
       "<style scoped>\n",
       "    .dataframe tbody tr th:only-of-type {\n",
       "        vertical-align: middle;\n",
       "    }\n",
       "\n",
       "    .dataframe tbody tr th {\n",
       "        vertical-align: top;\n",
       "    }\n",
       "\n",
       "    .dataframe thead th {\n",
       "        text-align: right;\n",
       "    }\n",
       "</style>\n",
       "<table border=\"1\" class=\"dataframe\">\n",
       "  <thead>\n",
       "    <tr style=\"text-align: right;\">\n",
       "      <th></th>\n",
       "      <th>name</th>\n",
       "      <th>위도</th>\n",
       "      <th>경도</th>\n",
       "    </tr>\n",
       "  </thead>\n",
       "  <tbody>\n",
       "    <tr>\n",
       "      <th>334</th>\n",
       "      <td>강남구청</td>\n",
       "      <td>37.517186</td>\n",
       "      <td>127.041280</td>\n",
       "    </tr>\n",
       "    <tr>\n",
       "      <th>335</th>\n",
       "      <td>학동</td>\n",
       "      <td>37.514229</td>\n",
       "      <td>127.031656</td>\n",
       "    </tr>\n",
       "    <tr>\n",
       "      <th>566</th>\n",
       "      <td>강남구청</td>\n",
       "      <td>37.517186</td>\n",
       "      <td>127.041280</td>\n",
       "    </tr>\n",
       "  </tbody>\n",
       "</table>\n",
       "</div>"
      ],
      "text/plain": [
       "     name         위도          경도\n",
       "334  강남구청  37.517186  127.041280\n",
       "335    학동  37.514229  127.031656\n",
       "566  강남구청  37.517186  127.041280"
      ]
     },
     "execution_count": 47,
     "metadata": {},
     "output_type": "execute_result"
    }
   ],
   "source": [
    "target_sw = get_subway(127.036042,37.516145,1)\n",
    "target_sw"
   ]
  },
  {
   "cell_type": "code",
   "execution_count": null,
   "id": "czech-drama",
   "metadata": {},
   "outputs": [],
   "source": []
  }
 ],
 "metadata": {
  "kernelspec": {
   "display_name": "Python 3",
   "language": "python",
   "name": "python3"
  },
  "language_info": {
   "codemirror_mode": {
    "name": "ipython",
    "version": 3
   },
   "file_extension": ".py",
   "mimetype": "text/x-python",
   "name": "python",
   "nbconvert_exporter": "python",
   "pygments_lexer": "ipython3",
   "version": "3.8.5"
  }
 },
 "nbformat": 4,
 "nbformat_minor": 5
}
