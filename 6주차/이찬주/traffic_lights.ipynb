{
 "cells": [
  {
   "cell_type": "code",
   "execution_count": 26,
   "id": "consecutive-albania",
   "metadata": {
    "scrolled": true
   },
   "outputs": [],
   "source": [
    "import pandas as pd\n",
    "import geopandas as gpd\n",
    "from shapely.geometry import Point, Polygon, LineString\n",
    "from fiona.crs import from_string\n",
    "import warnings\n",
    "warnings.filterwarnings(action = 'ignore')\n",
    "\n"
   ]
  },
  {
   "cell_type": "code",
   "execution_count": 27,
   "id": "japanese-storage",
   "metadata": {
    "scrolled": true
   },
   "outputs": [
    {
     "data": {
      "text/html": [
       "<div>\n",
       "<style scoped>\n",
       "    .dataframe tbody tr th:only-of-type {\n",
       "        vertical-align: middle;\n",
       "    }\n",
       "\n",
       "    .dataframe tbody tr th {\n",
       "        vertical-align: top;\n",
       "    }\n",
       "\n",
       "    .dataframe thead th {\n",
       "        text-align: right;\n",
       "    }\n",
       "</style>\n",
       "<table border=\"1\" class=\"dataframe\">\n",
       "  <thead>\n",
       "    <tr style=\"text-align: right;\">\n",
       "      <th></th>\n",
       "      <th>신호등수량</th>\n",
       "      <th>위도</th>\n",
       "      <th>경도</th>\n",
       "    </tr>\n",
       "  </thead>\n",
       "  <tbody>\n",
       "    <tr>\n",
       "      <th>0</th>\n",
       "      <td>2</td>\n",
       "      <td>202650.00560</td>\n",
       "      <td>542705.46253</td>\n",
       "    </tr>\n",
       "    <tr>\n",
       "      <th>1</th>\n",
       "      <td>3</td>\n",
       "      <td>202714.48048</td>\n",
       "      <td>542715.77569</td>\n",
       "    </tr>\n",
       "    <tr>\n",
       "      <th>2</th>\n",
       "      <td>1</td>\n",
       "      <td>203129.34784</td>\n",
       "      <td>541838.75856</td>\n",
       "    </tr>\n",
       "    <tr>\n",
       "      <th>3</th>\n",
       "      <td>1</td>\n",
       "      <td>202976.86616</td>\n",
       "      <td>542798.94598</td>\n",
       "    </tr>\n",
       "    <tr>\n",
       "      <th>4</th>\n",
       "      <td>1</td>\n",
       "      <td>203026.11371</td>\n",
       "      <td>542800.32686</td>\n",
       "    </tr>\n",
       "    <tr>\n",
       "      <th>...</th>\n",
       "      <td>...</td>\n",
       "      <td>...</td>\n",
       "      <td>...</td>\n",
       "    </tr>\n",
       "    <tr>\n",
       "      <th>109995</th>\n",
       "      <td>1</td>\n",
       "      <td>183933.70795</td>\n",
       "      <td>543097.23710</td>\n",
       "    </tr>\n",
       "    <tr>\n",
       "      <th>109996</th>\n",
       "      <td>1</td>\n",
       "      <td>206196.04866</td>\n",
       "      <td>559059.56161</td>\n",
       "    </tr>\n",
       "    <tr>\n",
       "      <th>109997</th>\n",
       "      <td>1</td>\n",
       "      <td>205062.84369</td>\n",
       "      <td>563479.41770</td>\n",
       "    </tr>\n",
       "    <tr>\n",
       "      <th>109998</th>\n",
       "      <td>1</td>\n",
       "      <td>205142.04368</td>\n",
       "      <td>563497.91769</td>\n",
       "    </tr>\n",
       "    <tr>\n",
       "      <th>109999</th>\n",
       "      <td>1</td>\n",
       "      <td>202644.74702</td>\n",
       "      <td>562031.34146</td>\n",
       "    </tr>\n",
       "  </tbody>\n",
       "</table>\n",
       "<p>110000 rows × 3 columns</p>\n",
       "</div>"
      ],
      "text/plain": [
       "        신호등수량            위도            경도\n",
       "0           2  202650.00560  542705.46253\n",
       "1           3  202714.48048  542715.77569\n",
       "2           1  203129.34784  541838.75856\n",
       "3           1  202976.86616  542798.94598\n",
       "4           1  203026.11371  542800.32686\n",
       "...       ...           ...           ...\n",
       "109995      1  183933.70795  543097.23710\n",
       "109996      1  206196.04866  559059.56161\n",
       "109997      1  205062.84369  563479.41770\n",
       "109998      1  205142.04368  563497.91769\n",
       "109999      1  202644.74702  562031.34146\n",
       "\n",
       "[110000 rows x 3 columns]"
      ]
     },
     "execution_count": 27,
     "metadata": {},
     "output_type": "execute_result"
    }
   ],
   "source": [
    "df = pd.read_csv(\"/Users/chanju/github/smussp/6주차/이찬주/서울시 신호등 관련 정보.csv\",encoding='CP949')\n",
    "df = df.drop(['상태 (공통)', '부착방식', '부착대길이', '고가 (공통)', '부착대방향', '배면등수량',\n",
    "       '신호등종류', '배면등종류', '설치일', '교체일', '지주관리번호', '신호발광구분', '제조회사', '작업구분 (공통)',\n",
    "       '표출구분 (공통)', '신규정규화ID', '공사관리번호', '부착대관리번호', '이력ID', '위치정보',\n",
    "       '공사형태 (공통)','부착대관리번호.1'],axis='columns')\n",
    "\n",
    "df = df.rename({'X좌표':'위도','Y좌표':'경도'},axis='columns')\n",
    "df"
   ]
  },
  {
   "cell_type": "code",
   "execution_count": 28,
   "id": "timely-replica",
   "metadata": {},
   "outputs": [],
   "source": [
    "def get_traffic_light(lon, lat, km):\n",
    "    df = pd.read_csv(\"/Users/chanju/github/smussp/6주차/이찬주/서울시 신호등 관련 정보.csv\",encoding='CP949')\n",
    "    \n",
    "    df['X좌표'] = df['X좌표'].astype(float)\n",
    "    df['Y좌표'] = df['Y좌표'].astype(float)\n",
    "    df['geometry'] = df.apply(lambda row : Point([row['X좌표'], row['Y좌표']]), axis=1)\n",
    "    df = gpd.GeoDataFrame(df, geometry='geometry')\n",
    "    df.crs = from_string(\"+proj=tmerc +lat_0=38 +lon_0=127 +k=1 +x_0=200000 +y_0=600000 +ellps=GRS80 +units=m +no_defs\")\n",
    "    wgs84 = from_string(\"+proj=longlat +ellps=WGS84 +datum=WGS84 +no_defs\")\n",
    "    df = df.to_crs(wgs84)\n",
    "    df2 = pd.DataFrame()\n",
    "    df2['lon'] = df['geometry'].map(lambda t : t.x)\n",
    "    df2['lat'] = df['geometry'].map(lambda t : t.y)\n",
    "    df2['신호등수량'] = df['신호등수량']\n",
    "    df2 = df2.rename({'lat':'위도','lon':'경도'},axis='columns')\n",
    "    df2 = df2[['신호등수량','위도','경도']]\n",
    "    return get_xy(df2, lon, lat, km)\n",
    "\n",
    "target_"
   ]
  },
  {
   "cell_type": "code",
   "execution_count": 36,
   "id": "expected-electron",
   "metadata": {},
   "outputs": [
    {
     "data": {
      "text/html": [
       "<div>\n",
       "<style scoped>\n",
       "    .dataframe tbody tr th:only-of-type {\n",
       "        vertical-align: middle;\n",
       "    }\n",
       "\n",
       "    .dataframe tbody tr th {\n",
       "        vertical-align: top;\n",
       "    }\n",
       "\n",
       "    .dataframe thead th {\n",
       "        text-align: right;\n",
       "    }\n",
       "</style>\n",
       "<table border=\"1\" class=\"dataframe\">\n",
       "  <thead>\n",
       "    <tr style=\"text-align: right;\">\n",
       "      <th></th>\n",
       "      <th>신호등수량</th>\n",
       "      <th>위도</th>\n",
       "      <th>경도</th>\n",
       "    </tr>\n",
       "  </thead>\n",
       "  <tbody>\n",
       "    <tr>\n",
       "      <th>919</th>\n",
       "      <td>2</td>\n",
       "      <td>37.515204</td>\n",
       "      <td>127.035544</td>\n",
       "    </tr>\n",
       "    <tr>\n",
       "      <th>920</th>\n",
       "      <td>1</td>\n",
       "      <td>37.515205</td>\n",
       "      <td>127.035537</td>\n",
       "    </tr>\n",
       "    <tr>\n",
       "      <th>1240</th>\n",
       "      <td>1</td>\n",
       "      <td>37.515372</td>\n",
       "      <td>127.035162</td>\n",
       "    </tr>\n",
       "    <tr>\n",
       "      <th>1241</th>\n",
       "      <td>1</td>\n",
       "      <td>37.515422</td>\n",
       "      <td>127.035137</td>\n",
       "    </tr>\n",
       "    <tr>\n",
       "      <th>1242</th>\n",
       "      <td>2</td>\n",
       "      <td>37.515284</td>\n",
       "      <td>127.035130</td>\n",
       "    </tr>\n",
       "    <tr>\n",
       "      <th>...</th>\n",
       "      <td>...</td>\n",
       "      <td>...</td>\n",
       "      <td>...</td>\n",
       "    </tr>\n",
       "    <tr>\n",
       "      <th>86590</th>\n",
       "      <td>1</td>\n",
       "      <td>37.515476</td>\n",
       "      <td>127.035098</td>\n",
       "    </tr>\n",
       "    <tr>\n",
       "      <th>89853</th>\n",
       "      <td>2</td>\n",
       "      <td>37.518193</td>\n",
       "      <td>127.035129</td>\n",
       "    </tr>\n",
       "    <tr>\n",
       "      <th>94405</th>\n",
       "      <td>1</td>\n",
       "      <td>37.515367</td>\n",
       "      <td>127.035712</td>\n",
       "    </tr>\n",
       "    <tr>\n",
       "      <th>98306</th>\n",
       "      <td>1</td>\n",
       "      <td>37.515163</td>\n",
       "      <td>127.035155</td>\n",
       "    </tr>\n",
       "    <tr>\n",
       "      <th>100033</th>\n",
       "      <td>1</td>\n",
       "      <td>37.516283</td>\n",
       "      <td>127.038337</td>\n",
       "    </tr>\n",
       "  </tbody>\n",
       "</table>\n",
       "<p>81 rows × 3 columns</p>\n",
       "</div>"
      ],
      "text/plain": [
       "        신호등수량         위도          경도\n",
       "919         2  37.515204  127.035544\n",
       "920         1  37.515205  127.035537\n",
       "1240        1  37.515372  127.035162\n",
       "1241        1  37.515422  127.035137\n",
       "1242        2  37.515284  127.035130\n",
       "...       ...        ...         ...\n",
       "86590       1  37.515476  127.035098\n",
       "89853       2  37.518193  127.035129\n",
       "94405       1  37.515367  127.035712\n",
       "98306       1  37.515163  127.035155\n",
       "100033      1  37.516283  127.038337\n",
       "\n",
       "[81 rows x 3 columns]"
      ]
     },
     "execution_count": 36,
     "metadata": {},
     "output_type": "execute_result"
    }
   ],
   "source": [
    "def get_traffic_light(lon, lat, km):\n",
    "    global df,df2\n",
    "    df = pd.read_csv(\"/Users/chanju/github/smussp/6주차/이찬주/서울시 신호등 관련 정보.csv\",encoding='CP949')\n",
    "    df['X좌표'] = df['X좌표'].astype(float)\n",
    "    df['Y좌표'] = df['Y좌표'].astype(float)\n",
    "    df['geometry'] = df.apply(lambda row : Point([row['X좌표'], row['Y좌표']]), axis=1)\n",
    "    df = gpd.GeoDataFrame(df, geometry='geometry')\n",
    "    df.crs = from_string(\"+proj=tmerc +lat_0=38 +lon_0=127 +k=1 +x_0=200000 +y_0=600000 +ellps=GRS80 +units=m +no_defs\")\n",
    "    wgs84 = from_string(\"+proj=longlat +ellps=WGS84 +datum=WGS84 +no_defs\")\n",
    "    df = df.to_crs(wgs84)\n",
    "    df['lon'] = df['geometry'].map(lambda t : t.x)\n",
    "    df['lat'] = df['geometry'].map(lambda t : t.y)\n",
    "#     df['신호등수량'] = df['신호등수량']\n",
    "    df = df.rename({'lat':'위도','lon':'경도'},axis='columns')\n",
    "    df = df[['신호등수량','위도','경도']]\n",
    "    return get_xy(df, lon, lat, km)\n",
    "\n",
    "target_tl = get_traffic_light(127.036042,37.516145,0.5)\n",
    "target_tl"
   ]
  },
  {
   "cell_type": "code",
   "execution_count": 43,
   "id": "excess-design",
   "metadata": {},
   "outputs": [
    {
     "data": {
      "text/plain": [
       "137"
      ]
     },
     "execution_count": 43,
     "metadata": {},
     "output_type": "execute_result"
    }
   ],
   "source": [
    "a = target_tl['신호등수량'].values.tolist()\n",
    "sum(a)"
   ]
  },
  {
   "cell_type": "code",
   "execution_count": 30,
   "id": "aggressive-fitness",
   "metadata": {},
   "outputs": [],
   "source": [
    "lon =126.955009\n",
    "lat =37.6027953\n",
    "#tmp = get_tlsghemd(lon,lat,2)\n",
    "#tmp"
   ]
  },
  {
   "cell_type": "code",
   "execution_count": 31,
   "id": "looking-eugene",
   "metadata": {},
   "outputs": [],
   "source": [
    "#위도 =111.195km , 경도 88.8km , 2km 박스일 때 반경  1.414\n",
    "def dis_to_lat(km):\n",
    "    return km/111.195\n",
    "def dis_to_lon(km):\n",
    "    return km/88.8\n",
    "\n",
    "def lat_to_dis(lat):\n",
    "    return lat*111.195\n",
    "def lon_to_dis(lon):\n",
    "    return lon*88.8\n",
    "\n",
    "def get_xy(data,lon, lat,km):\n",
    "    lat_size = dis_to_lat(km)\n",
    "    lon_size = dis_to_lon(km)\n",
    "    return data[(data['위도']<=lat+lat_size/2) & (data['위도']>=lat-lat_size/2) &\n",
    "                 (data['경도']<=lon+lon_size/2) & (data['경도']>=lon-lon_size/2)]"
   ]
  },
  {
   "cell_type": "code",
   "execution_count": 32,
   "id": "public-solution",
   "metadata": {
    "scrolled": true
   },
   "outputs": [
    {
     "data": {
      "text/html": [
       "<div>\n",
       "<style scoped>\n",
       "    .dataframe tbody tr th:only-of-type {\n",
       "        vertical-align: middle;\n",
       "    }\n",
       "\n",
       "    .dataframe tbody tr th {\n",
       "        vertical-align: top;\n",
       "    }\n",
       "\n",
       "    .dataframe thead th {\n",
       "        text-align: right;\n",
       "    }\n",
       "</style>\n",
       "<table border=\"1\" class=\"dataframe\">\n",
       "  <thead>\n",
       "    <tr style=\"text-align: right;\">\n",
       "      <th></th>\n",
       "      <th>신호등수량</th>\n",
       "      <th>위도</th>\n",
       "      <th>경도</th>\n",
       "    </tr>\n",
       "  </thead>\n",
       "  <tbody>\n",
       "    <tr>\n",
       "      <th>0</th>\n",
       "      <td>2</td>\n",
       "      <td>37.483790</td>\n",
       "      <td>127.029962</td>\n",
       "    </tr>\n",
       "    <tr>\n",
       "      <th>1</th>\n",
       "      <td>3</td>\n",
       "      <td>37.483883</td>\n",
       "      <td>127.030691</td>\n",
       "    </tr>\n",
       "    <tr>\n",
       "      <th>2</th>\n",
       "      <td>1</td>\n",
       "      <td>37.475980</td>\n",
       "      <td>127.035378</td>\n",
       "    </tr>\n",
       "    <tr>\n",
       "      <th>3</th>\n",
       "      <td>1</td>\n",
       "      <td>37.484631</td>\n",
       "      <td>127.033658</td>\n",
       "    </tr>\n",
       "    <tr>\n",
       "      <th>4</th>\n",
       "      <td>1</td>\n",
       "      <td>37.484644</td>\n",
       "      <td>127.034215</td>\n",
       "    </tr>\n",
       "  </tbody>\n",
       "</table>\n",
       "</div>"
      ],
      "text/plain": [
       "   신호등수량         위도          경도\n",
       "0      2  37.483790  127.029962\n",
       "1      3  37.483883  127.030691\n",
       "2      1  37.475980  127.035378\n",
       "3      1  37.484631  127.033658\n",
       "4      1  37.484644  127.034215"
      ]
     },
     "execution_count": 32,
     "metadata": {},
     "output_type": "execute_result"
    }
   ],
   "source": [
    "df.head(5)"
   ]
  },
  {
   "cell_type": "code",
   "execution_count": 33,
   "id": "fabulous-partner",
   "metadata": {},
   "outputs": [
    {
     "data": {
      "text/plain": [
       "Index(['신호등수량', '위도', '경도'], dtype='object')"
      ]
     },
     "execution_count": 33,
     "metadata": {},
     "output_type": "execute_result"
    }
   ],
   "source": [
    "df.columns"
   ]
  },
  {
   "cell_type": "markdown",
   "id": "banner-party",
   "metadata": {},
   "source": [
    "df = df.drop(['상태 (공통)', '부착방식', '부착대길이', '고가 (공통)', '부착대방향', '배면등수량',\n",
    "       '신호등종류', '배면등종류', '설치일', '교체일', '지주관리번호', '신호발광구분', '제조회사', '작업구분 (공통)',\n",
    "       '표출구분 (공통)', '신규정규화ID', '공사관리번호', '부착대관리번호', '이력ID', '위치정보',\n",
    "       '공사형태 (공통)','부착대관리번호.1'],axis='columns')"
   ]
  },
  {
   "cell_type": "code",
   "execution_count": 34,
   "id": "local-cruise",
   "metadata": {},
   "outputs": [
    {
     "data": {
      "text/html": [
       "<div>\n",
       "<style scoped>\n",
       "    .dataframe tbody tr th:only-of-type {\n",
       "        vertical-align: middle;\n",
       "    }\n",
       "\n",
       "    .dataframe tbody tr th {\n",
       "        vertical-align: top;\n",
       "    }\n",
       "\n",
       "    .dataframe thead th {\n",
       "        text-align: right;\n",
       "    }\n",
       "</style>\n",
       "<table border=\"1\" class=\"dataframe\">\n",
       "  <thead>\n",
       "    <tr style=\"text-align: right;\">\n",
       "      <th></th>\n",
       "      <th>신호등수량</th>\n",
       "      <th>위도</th>\n",
       "      <th>경도</th>\n",
       "    </tr>\n",
       "  </thead>\n",
       "  <tbody>\n",
       "    <tr>\n",
       "      <th>0</th>\n",
       "      <td>2</td>\n",
       "      <td>37.483790</td>\n",
       "      <td>127.029962</td>\n",
       "    </tr>\n",
       "    <tr>\n",
       "      <th>1</th>\n",
       "      <td>3</td>\n",
       "      <td>37.483883</td>\n",
       "      <td>127.030691</td>\n",
       "    </tr>\n",
       "    <tr>\n",
       "      <th>2</th>\n",
       "      <td>1</td>\n",
       "      <td>37.475980</td>\n",
       "      <td>127.035378</td>\n",
       "    </tr>\n",
       "    <tr>\n",
       "      <th>3</th>\n",
       "      <td>1</td>\n",
       "      <td>37.484631</td>\n",
       "      <td>127.033658</td>\n",
       "    </tr>\n",
       "    <tr>\n",
       "      <th>4</th>\n",
       "      <td>1</td>\n",
       "      <td>37.484644</td>\n",
       "      <td>127.034215</td>\n",
       "    </tr>\n",
       "  </tbody>\n",
       "</table>\n",
       "</div>"
      ],
      "text/plain": [
       "   신호등수량         위도          경도\n",
       "0      2  37.483790  127.029962\n",
       "1      3  37.483883  127.030691\n",
       "2      1  37.475980  127.035378\n",
       "3      1  37.484631  127.033658\n",
       "4      1  37.484644  127.034215"
      ]
     },
     "execution_count": 34,
     "metadata": {},
     "output_type": "execute_result"
    }
   ],
   "source": [
    "df.head(5)"
   ]
  },
  {
   "cell_type": "code",
   "execution_count": 35,
   "id": "cooked-baking",
   "metadata": {},
   "outputs": [
    {
     "ename": "KeyError",
     "evalue": "'X좌표'",
     "output_type": "error",
     "traceback": [
      "\u001b[0;31m---------------------------------------------------------------------------\u001b[0m",
      "\u001b[0;31mKeyError\u001b[0m                                  Traceback (most recent call last)",
      "\u001b[0;32m~/opt/anaconda3/lib/python3.8/site-packages/pandas/core/indexes/base.py\u001b[0m in \u001b[0;36mget_loc\u001b[0;34m(self, key, method, tolerance)\u001b[0m\n\u001b[1;32m   3079\u001b[0m             \u001b[0;32mtry\u001b[0m\u001b[0;34m:\u001b[0m\u001b[0;34m\u001b[0m\u001b[0;34m\u001b[0m\u001b[0m\n\u001b[0;32m-> 3080\u001b[0;31m                 \u001b[0;32mreturn\u001b[0m \u001b[0mself\u001b[0m\u001b[0;34m.\u001b[0m\u001b[0m_engine\u001b[0m\u001b[0;34m.\u001b[0m\u001b[0mget_loc\u001b[0m\u001b[0;34m(\u001b[0m\u001b[0mcasted_key\u001b[0m\u001b[0;34m)\u001b[0m\u001b[0;34m\u001b[0m\u001b[0;34m\u001b[0m\u001b[0m\n\u001b[0m\u001b[1;32m   3081\u001b[0m             \u001b[0;32mexcept\u001b[0m \u001b[0mKeyError\u001b[0m \u001b[0;32mas\u001b[0m \u001b[0merr\u001b[0m\u001b[0;34m:\u001b[0m\u001b[0;34m\u001b[0m\u001b[0;34m\u001b[0m\u001b[0m\n",
      "\u001b[0;32mpandas/_libs/index.pyx\u001b[0m in \u001b[0;36mpandas._libs.index.IndexEngine.get_loc\u001b[0;34m()\u001b[0m\n",
      "\u001b[0;32mpandas/_libs/index.pyx\u001b[0m in \u001b[0;36mpandas._libs.index.IndexEngine.get_loc\u001b[0;34m()\u001b[0m\n",
      "\u001b[0;32mpandas/_libs/hashtable_class_helper.pxi\u001b[0m in \u001b[0;36mpandas._libs.hashtable.PyObjectHashTable.get_item\u001b[0;34m()\u001b[0m\n",
      "\u001b[0;32mpandas/_libs/hashtable_class_helper.pxi\u001b[0m in \u001b[0;36mpandas._libs.hashtable.PyObjectHashTable.get_item\u001b[0;34m()\u001b[0m\n",
      "\u001b[0;31mKeyError\u001b[0m: 'X좌표'",
      "\nThe above exception was the direct cause of the following exception:\n",
      "\u001b[0;31mKeyError\u001b[0m                                  Traceback (most recent call last)",
      "\u001b[0;32m<ipython-input-35-180991eec649>\u001b[0m in \u001b[0;36m<module>\u001b[0;34m\u001b[0m\n\u001b[1;32m      3\u001b[0m \u001b[0;34m\u001b[0m\u001b[0m\n\u001b[1;32m      4\u001b[0m \u001b[0;34m\u001b[0m\u001b[0m\n\u001b[0;32m----> 5\u001b[0;31m \u001b[0mdf\u001b[0m\u001b[0;34m[\u001b[0m\u001b[0;34m'X좌표'\u001b[0m\u001b[0;34m]\u001b[0m \u001b[0;34m=\u001b[0m \u001b[0mdf\u001b[0m\u001b[0;34m[\u001b[0m\u001b[0;34m'X좌표'\u001b[0m\u001b[0;34m]\u001b[0m\u001b[0;34m.\u001b[0m\u001b[0mastype\u001b[0m\u001b[0;34m(\u001b[0m\u001b[0mfloat\u001b[0m\u001b[0;34m)\u001b[0m\u001b[0;34m\u001b[0m\u001b[0;34m\u001b[0m\u001b[0m\n\u001b[0m\u001b[1;32m      6\u001b[0m \u001b[0mdf\u001b[0m\u001b[0;34m[\u001b[0m\u001b[0;34m'Y좌표'\u001b[0m\u001b[0;34m]\u001b[0m \u001b[0;34m=\u001b[0m \u001b[0mdf\u001b[0m\u001b[0;34m[\u001b[0m\u001b[0;34m'Y좌표'\u001b[0m\u001b[0;34m]\u001b[0m\u001b[0;34m.\u001b[0m\u001b[0mastype\u001b[0m\u001b[0;34m(\u001b[0m\u001b[0mfloat\u001b[0m\u001b[0;34m)\u001b[0m\u001b[0;34m\u001b[0m\u001b[0;34m\u001b[0m\u001b[0m\n\u001b[1;32m      7\u001b[0m \u001b[0mdf\u001b[0m\u001b[0;34m[\u001b[0m\u001b[0;34m'geometry'\u001b[0m\u001b[0;34m]\u001b[0m \u001b[0;34m=\u001b[0m \u001b[0mdf\u001b[0m\u001b[0;34m.\u001b[0m\u001b[0mapply\u001b[0m\u001b[0;34m(\u001b[0m\u001b[0;32mlambda\u001b[0m \u001b[0mrow\u001b[0m \u001b[0;34m:\u001b[0m \u001b[0mPoint\u001b[0m\u001b[0;34m(\u001b[0m\u001b[0;34m[\u001b[0m\u001b[0mrow\u001b[0m\u001b[0;34m[\u001b[0m\u001b[0;34m'X좌표'\u001b[0m\u001b[0;34m]\u001b[0m\u001b[0;34m,\u001b[0m \u001b[0mrow\u001b[0m\u001b[0;34m[\u001b[0m\u001b[0;34m'Y좌표'\u001b[0m\u001b[0;34m]\u001b[0m\u001b[0;34m]\u001b[0m\u001b[0;34m)\u001b[0m\u001b[0;34m,\u001b[0m \u001b[0maxis\u001b[0m\u001b[0;34m=\u001b[0m\u001b[0;36m1\u001b[0m\u001b[0;34m)\u001b[0m\u001b[0;34m\u001b[0m\u001b[0;34m\u001b[0m\u001b[0m\n",
      "\u001b[0;32m~/opt/anaconda3/lib/python3.8/site-packages/pandas/core/frame.py\u001b[0m in \u001b[0;36m__getitem__\u001b[0;34m(self, key)\u001b[0m\n\u001b[1;32m   3022\u001b[0m             \u001b[0;32mif\u001b[0m \u001b[0mself\u001b[0m\u001b[0;34m.\u001b[0m\u001b[0mcolumns\u001b[0m\u001b[0;34m.\u001b[0m\u001b[0mnlevels\u001b[0m \u001b[0;34m>\u001b[0m \u001b[0;36m1\u001b[0m\u001b[0;34m:\u001b[0m\u001b[0;34m\u001b[0m\u001b[0;34m\u001b[0m\u001b[0m\n\u001b[1;32m   3023\u001b[0m                 \u001b[0;32mreturn\u001b[0m \u001b[0mself\u001b[0m\u001b[0;34m.\u001b[0m\u001b[0m_getitem_multilevel\u001b[0m\u001b[0;34m(\u001b[0m\u001b[0mkey\u001b[0m\u001b[0;34m)\u001b[0m\u001b[0;34m\u001b[0m\u001b[0;34m\u001b[0m\u001b[0m\n\u001b[0;32m-> 3024\u001b[0;31m             \u001b[0mindexer\u001b[0m \u001b[0;34m=\u001b[0m \u001b[0mself\u001b[0m\u001b[0;34m.\u001b[0m\u001b[0mcolumns\u001b[0m\u001b[0;34m.\u001b[0m\u001b[0mget_loc\u001b[0m\u001b[0;34m(\u001b[0m\u001b[0mkey\u001b[0m\u001b[0;34m)\u001b[0m\u001b[0;34m\u001b[0m\u001b[0;34m\u001b[0m\u001b[0m\n\u001b[0m\u001b[1;32m   3025\u001b[0m             \u001b[0;32mif\u001b[0m \u001b[0mis_integer\u001b[0m\u001b[0;34m(\u001b[0m\u001b[0mindexer\u001b[0m\u001b[0;34m)\u001b[0m\u001b[0;34m:\u001b[0m\u001b[0;34m\u001b[0m\u001b[0;34m\u001b[0m\u001b[0m\n\u001b[1;32m   3026\u001b[0m                 \u001b[0mindexer\u001b[0m \u001b[0;34m=\u001b[0m \u001b[0;34m[\u001b[0m\u001b[0mindexer\u001b[0m\u001b[0;34m]\u001b[0m\u001b[0;34m\u001b[0m\u001b[0;34m\u001b[0m\u001b[0m\n",
      "\u001b[0;32m~/opt/anaconda3/lib/python3.8/site-packages/pandas/core/indexes/base.py\u001b[0m in \u001b[0;36mget_loc\u001b[0;34m(self, key, method, tolerance)\u001b[0m\n\u001b[1;32m   3080\u001b[0m                 \u001b[0;32mreturn\u001b[0m \u001b[0mself\u001b[0m\u001b[0;34m.\u001b[0m\u001b[0m_engine\u001b[0m\u001b[0;34m.\u001b[0m\u001b[0mget_loc\u001b[0m\u001b[0;34m(\u001b[0m\u001b[0mcasted_key\u001b[0m\u001b[0;34m)\u001b[0m\u001b[0;34m\u001b[0m\u001b[0;34m\u001b[0m\u001b[0m\n\u001b[1;32m   3081\u001b[0m             \u001b[0;32mexcept\u001b[0m \u001b[0mKeyError\u001b[0m \u001b[0;32mas\u001b[0m \u001b[0merr\u001b[0m\u001b[0;34m:\u001b[0m\u001b[0;34m\u001b[0m\u001b[0;34m\u001b[0m\u001b[0m\n\u001b[0;32m-> 3082\u001b[0;31m                 \u001b[0;32mraise\u001b[0m \u001b[0mKeyError\u001b[0m\u001b[0;34m(\u001b[0m\u001b[0mkey\u001b[0m\u001b[0;34m)\u001b[0m \u001b[0;32mfrom\u001b[0m \u001b[0merr\u001b[0m\u001b[0;34m\u001b[0m\u001b[0;34m\u001b[0m\u001b[0m\n\u001b[0m\u001b[1;32m   3083\u001b[0m \u001b[0;34m\u001b[0m\u001b[0m\n\u001b[1;32m   3084\u001b[0m         \u001b[0;32mif\u001b[0m \u001b[0mtolerance\u001b[0m \u001b[0;32mis\u001b[0m \u001b[0;32mnot\u001b[0m \u001b[0;32mNone\u001b[0m\u001b[0;34m:\u001b[0m\u001b[0;34m\u001b[0m\u001b[0;34m\u001b[0m\u001b[0m\n",
      "\u001b[0;31mKeyError\u001b[0m: 'X좌표'"
     ]
    }
   ],
   "source": [
    "import geopandas as gpd\n",
    "from shapely.geometry import Point, Polygon, LineString\n",
    "\n",
    "\n",
    "df['X좌표'] = df['X좌표'].astype(float)\n",
    "df['Y좌표'] = df['Y좌표'].astype(float)\n",
    "df['geometry'] = df.apply(lambda row : Point([row['X좌표'], row['Y좌표']]), axis=1)\n",
    "df = gpd.GeoDataFrame(df, geometry='geometry')"
   ]
  },
  {
   "cell_type": "code",
   "execution_count": null,
   "id": "invisible-butler",
   "metadata": {},
   "outputs": [],
   "source": [
    "from fiona.crs import from_string\n",
    "\n",
    "epsg5186 = from_string(\"+proj=tmerc +lat_0=38 +lon_0=127 +k=1 +x_0=200000 +y_0=600000 +ellps=GRS80 +units=m +no_defs\")"
   ]
  },
  {
   "cell_type": "code",
   "execution_count": null,
   "id": "derived-therapist",
   "metadata": {
    "scrolled": true
   },
   "outputs": [],
   "source": [
    "df.crs = epsg5186\n",
    "print(df.crs)"
   ]
  },
  {
   "cell_type": "code",
   "execution_count": null,
   "id": "successful-lloyd",
   "metadata": {},
   "outputs": [],
   "source": [
    "wgs84 = from_string(\"+proj=longlat +ellps=WGS84 +datum=WGS84 +no_defs\")"
   ]
  },
  {
   "cell_type": "code",
   "execution_count": null,
   "id": "celtic-metro",
   "metadata": {},
   "outputs": [],
   "source": [
    "df = df.to_crs(wgs84)\n",
    "df[\"geometry\"].head()"
   ]
  },
  {
   "cell_type": "code",
   "execution_count": null,
   "id": "portuguese-problem",
   "metadata": {},
   "outputs": [],
   "source": [
    "df.head()"
   ]
  },
  {
   "cell_type": "code",
   "execution_count": null,
   "id": "played-enlargement",
   "metadata": {},
   "outputs": [],
   "source": [
    "df.iloc[1]['geometry'].x\n",
    "df2 = pd.DataFrame()\n",
    "df2['lon'] = df['geometry'].map(lambda t : t.x)\n",
    "df2['lat'] = df['geometry'].map(lambda t : t.y)\n",
    "df2['신호등수량'] = df['신호등수량']"
   ]
  },
  {
   "cell_type": "code",
   "execution_count": null,
   "id": "varying-consumption",
   "metadata": {},
   "outputs": [],
   "source": [
    "df2"
   ]
  },
  {
   "cell_type": "code",
   "execution_count": null,
   "id": "partial-trial",
   "metadata": {},
   "outputs": [],
   "source": [
    "df2 = df2.rename({'lat':'위도','lon':'경도'},axis='columns')\n",
    "df2 = df2[['신호등수량','위도','경도']]"
   ]
  },
  {
   "cell_type": "code",
   "execution_count": null,
   "id": "premier-johnson",
   "metadata": {
    "scrolled": true
   },
   "outputs": [],
   "source": [
    "lon =126.955009\n",
    "lat =37.6027953\n",
    "\n",
    "tmp1 = get_xy(df2, lon, lat, 2) # return dataframe \n",
    "tmp2 = get_xy(df2, lon, lat, 1)\n",
    "\n",
    "print(tmp1,tmp1['신호등수량'].sum())\n",
    "print(tmp2,tmp2['신호등수량'].sum())"
   ]
  },
  {
   "cell_type": "code",
   "execution_count": null,
   "id": "authorized-browse",
   "metadata": {},
   "outputs": [],
   "source": [
    "def get_crosswalk(lon,lat,km) :\n",
    "    df3 = pd.read_csv(\"/Users/chanju/github/smussp/6주차/이찬주/서울시 횡단보도 위치정보 (좌표계_ WGS1984).csv\",encoding='CP949')\n",
    "    df3 = df3.drop(['순번', '상태', '횡단보도종류코드', '가로길이', '세로길이', '화살표시수량', '화살표시길이',\n",
    "       '고가', '구경찰서코드', '구코드', '동코드', '지번', '신경찰서코드', '작업구분', '표출구분', '도로구분',\n",
    "       '관할사업소', '신규정규화ID', '설치일', '교체일', '이력ID', '공사관리번호', '횡단보도관리번호.1',\n",
    "       '공사형태'], axis='columns')\n",
    "    return get_xy(df3, lon, lat, km)"
   ]
  },
  {
   "cell_type": "code",
   "execution_count": null,
   "id": "offshore-seattle",
   "metadata": {},
   "outputs": [],
   "source": [
    "df3 = pd.read_csv(\"/Users/chanju/github/smussp/6주차/이찬주/서울시 횡단보도 위치정보 (좌표계_ WGS1984).csv\",encoding='CP949')"
   ]
  },
  {
   "cell_type": "code",
   "execution_count": null,
   "id": "retired-worthy",
   "metadata": {},
   "outputs": [],
   "source": [
    "df3.head()"
   ]
  },
  {
   "cell_type": "code",
   "execution_count": null,
   "id": "numerical-extent",
   "metadata": {},
   "outputs": [],
   "source": [
    "df3.columns"
   ]
  },
  {
   "cell_type": "code",
   "execution_count": null,
   "id": "descending-color",
   "metadata": {},
   "outputs": [],
   "source": [
    "df3 = df3.drop(['순번', '상태', '횡단보도종류코드', '가로길이', '세로길이', '화살표시수량', '화살표시길이',\n",
    "       '고가', '구경찰서코드', '구코드', '동코드', '지번', '신경찰서코드', '작업구분', '표출구분', '도로구분',\n",
    "       '관할사업소', '신규정규화ID', '설치일', '교체일', '이력ID', '공사관리번호', '횡단보도관리번호.1',\n",
    "       '공사형태'], axis='columns')"
   ]
  },
  {
   "cell_type": "code",
   "execution_count": null,
   "id": "laughing-bristol",
   "metadata": {
    "scrolled": true
   },
   "outputs": [],
   "source": [
    "tmp3 = get_xy(df3, lon, lat, 2) # return dataframe \n",
    "tmp4 = get_xy(df3, lon, lat, 1)\n",
    "print(tmp3,sep='\\n')\n",
    "print(tmp4,len(tmp4))"
   ]
  },
  {
   "cell_type": "code",
   "execution_count": null,
   "id": "specified-swing",
   "metadata": {},
   "outputs": [],
   "source": [
    "def get_bus_stop(lon,lat,km) :\n",
    "    df4 = pd.read_csv(\"/Users/chanju/github/smussp/6주차/이찬주/서울특별시 버스정류소 위치정보.csv\",encoding='CP949')\n",
    "    df4 = df4.drop(['정류소번호'],axis=1)\n",
    "    df4 = df4.rename({'X좌표':'경도','Y좌표':'위도'},axis=1)\n",
    "    df4 = df4[['정류소명','위도','경도']]\n",
    "    \n",
    "    return get_xy(df4,lon,lat,km)"
   ]
  },
  {
   "cell_type": "code",
   "execution_count": null,
   "id": "detected-application",
   "metadata": {},
   "outputs": [],
   "source": [
    "df4 = pd.read_csv(\"/Users/chanju/github/smussp/6주차/이찬주/서울특별시 버스정류소 위치정보.csv\",encoding='CP949')\n"
   ]
  },
  {
   "cell_type": "code",
   "execution_count": null,
   "id": "responsible-subscription",
   "metadata": {},
   "outputs": [],
   "source": [
    "df4.head()"
   ]
  },
  {
   "cell_type": "code",
   "execution_count": null,
   "id": "determined-television",
   "metadata": {},
   "outputs": [],
   "source": [
    "df4 = df4.drop(['정류소번호'],axis=1)"
   ]
  },
  {
   "cell_type": "code",
   "execution_count": null,
   "id": "broadband-communist",
   "metadata": {},
   "outputs": [],
   "source": [
    "df4 = df4.rename({'X좌표':'경도','Y좌표':'위도'},axis=1)\n",
    "df4 = df4[['정류소명','위도','경도']]"
   ]
  },
  {
   "cell_type": "code",
   "execution_count": null,
   "id": "formal-pavilion",
   "metadata": {
    "scrolled": true
   },
   "outputs": [],
   "source": [
    "tmp5 = get_xy(df4, lon, lat, 2) # return dataframe \n",
    "tmp6 = get_xy(df4, lon, lat, 1)\n",
    "print(tmp5,sep='\\n')\n",
    "print(tmp6,sep='\\n')\n",
    "print(\"범위 내 정류장의 갯수는 %d개 입니다.\"%len(tmp6))"
   ]
  },
  {
   "cell_type": "code",
   "execution_count": null,
   "id": "wound-celtic",
   "metadata": {},
   "outputs": [],
   "source": [
    "def get_subway(lon,lat,km) :\n",
    "    df5 = pd.read_csv(\"/Users/chanju/github/smussp/6주차/이찬주/station_coordinate.csv\")\n",
    "    df5 = df5.drop(['line','code'],axis=1)\n",
    "    df5 = df5.rename({'lat':'위도','lng':'경도'},axis=1)\n",
    "    return get_xy(df5,lon,lat,km)"
   ]
  },
  {
   "cell_type": "code",
   "execution_count": null,
   "id": "nuclear-harrison",
   "metadata": {},
   "outputs": [],
   "source": [
    "df5 = pd.read_csv(\"/Users/chanju/github/smussp/6주차/이찬주/station_coordinate.csv\")"
   ]
  },
  {
   "cell_type": "code",
   "execution_count": null,
   "id": "pressed-ordinary",
   "metadata": {},
   "outputs": [],
   "source": [
    "df5.head()"
   ]
  },
  {
   "cell_type": "code",
   "execution_count": null,
   "id": "vital-advisory",
   "metadata": {},
   "outputs": [],
   "source": [
    "df5.columns"
   ]
  },
  {
   "cell_type": "code",
   "execution_count": null,
   "id": "technological-version",
   "metadata": {},
   "outputs": [],
   "source": [
    "df5 = df5.drop(['line','code'],axis=1)\n",
    "df5 = df5.rename({'lat':'위도','lng':'경도'},axis=1)\n",
    "df5.head()"
   ]
  },
  {
   "cell_type": "code",
   "execution_count": null,
   "id": "assigned-salad",
   "metadata": {},
   "outputs": [],
   "source": [
    "tmp7 = get_xy(df5, lon, lat, 6) # return dataframe \n",
    "tmp7"
   ]
  },
  {
   "cell_type": "code",
   "execution_count": null,
   "id": "induced-seeker",
   "metadata": {},
   "outputs": [],
   "source": []
  }
 ],
 "metadata": {
  "kernelspec": {
   "display_name": "Python 3",
   "language": "python",
   "name": "python3"
  },
  "language_info": {
   "codemirror_mode": {
    "name": "ipython",
    "version": 3
   },
   "file_extension": ".py",
   "mimetype": "text/x-python",
   "name": "python",
   "nbconvert_exporter": "python",
   "pygments_lexer": "ipython3",
   "version": "3.8.5"
  }
 },
 "nbformat": 4,
 "nbformat_minor": 5
}
